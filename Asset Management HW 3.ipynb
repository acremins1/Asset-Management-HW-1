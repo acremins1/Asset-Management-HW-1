{
 "cells": [
  {
   "cell_type": "markdown",
   "metadata": {},
   "source": [
    "Chosen ETFS:\n",
    "\n",
    "1. U.S. Market = SPDR S&P 500 ETF Trust (SPY)\n",
    "2. International Market (ex-U.S.) = Vanguard Total International Stock ETF (VXUS)\n",
    "3. U.S. Bonds = iShares Core US Aggregate Bond ETF (AGG)\n",
    "4. International Bonds (ex-U.S.) = Bloomberg Global Treasury ex-US Capped Index (BWX)\n",
    "5. Other Asset Class = SPDR Gold Shares (GLD)"
   ]
  },
  {
   "cell_type": "markdown",
   "metadata": {},
   "source": [
    "Questions:\n",
    "1. Something might be wrong with the annualized returns, they don't seem to match what I found online\n",
    "2. Do we find the optimal weights and then run it through the create_portfolio() function or do we have to iterate through create_portfolio()\n",
    "3. I think for the simulation part if we don't need create_portfolio() we can do something like this: https://www.mlq.ai/python-for-finance-portfolio-optimization/ with the part about the Monte Carlo simulations\n",
    "4. Do we change the titles on the graphs from the ticker to the actual strategy (i.e. SPY -> U.S. Market)?"
   ]
  },
  {
   "cell_type": "code",
   "execution_count": 1,
   "metadata": {},
   "outputs": [],
   "source": [
    "#Import the necessary libraries\n",
    "import pandas as pd\n",
    "import matplotlib.pyplot as plt\n",
    "from datetime import datetime as dt, timedelta\n",
    "import numpy as np"
   ]
  },
  {
   "cell_type": "code",
   "execution_count": 2,
   "metadata": {},
   "outputs": [],
   "source": [
    "#Read in data about the 5 ETFs from WRDS\n",
    "etfs = pd.read_csv('ETF Data.csv')\n",
    "#Convert the date column to be a datetime data type\n",
    "etfs['date'] = pd.to_datetime(etfs['date'], format=\"%m/%d/%Y\")\n",
    "#We noticed that BWX must've split on 9/28/2016, so we doubled all prices as an adjustment since the adjustment factor wasn't capturing this split\n",
    "etfs.loc[(etfs['date']>=dt.strptime('9/29/2016', '%m/%d/%Y'))&(etfs['date']<=dt.strptime('12/31/2021', '%m/%d/%Y'))&(etfs['TICKER']=='BWX'),'PRC'] = etfs.loc[(etfs['date']>=dt.strptime('9/29/2016', '%m/%d/%Y'))&(etfs['date']<=dt.strptime('12/31/2021', '%m/%d/%Y'))&(etfs['TICKER']=='BWX'),'PRC']*2\n",
    "#Make sure the dates are only on or after 12/31/2011 and on or before 12/31/2021\n",
    "etfs = etfs[etfs['date']>=dt.strptime('12/31/2011', '%m/%d/%Y')]\n",
    "etfs = etfs[etfs['date']<=dt.strptime('12/31/2021', '%m/%d/%Y')]\n",
    "#Find the daily return of each ETF\n",
    "etfs['return'] = etfs.groupby(['TICKER'])['PRC'].pct_change()"
   ]
  },
  {
   "cell_type": "code",
   "execution_count": 3,
   "metadata": {},
   "outputs": [],
   "source": [
    "#set up empty data frame with 5 columns\n",
    "etf_df = pd.DataFrame(columns=['Ticker', 'Annualized Return', 'Annualized Std', 'Sharpe Ratio', 'Max Drawdown'])\n",
    "#Iterate through each of the 5 ETFs\n",
    "for ticker in etfs['TICKER'].unique():\n",
    "    #Look at only one ETF at a time\n",
    "    subset_df = etfs[etfs['TICKER'] == ticker]\n",
    "    #Compute total return over the 10 years, then annualize\n",
    "    total_return = subset_df['PRC'].iloc[-1]/subset_df['PRC'].iloc[0]-1\n",
    "    annualized_return = (1+total_return)**(252/len(subset_df))-1\n",
    "    #Get annualized standard deviation\n",
    "    annualized_sd = subset_df['return'].std()*252**0.5\n",
    "    #Find the Sharpe Ratio from the annualized return and standard deviation\n",
    "    sharpe_ratio = annualized_return/annualized_sd\n",
    "    #Get the max drawdown by subtracting the maximum price from the minimum price and dividing by the maximum price\n",
    "    # max_drawdown = (subset_df['PRC'].min()-subset_df['PRC'].max())/(subset_df['PRC'].max())\n",
    "    max_drawdown = ((np.maximum.accumulate(subset_df['PRC']) - subset_df['PRC'])/np.maximum.accumulate(subset_df['PRC'])).max()\n",
    "    #Add results to dataframe\n",
    "    etf_df = etf_df.append({'Ticker': ticker, 'Annualized Return': annualized_return, 'Annualized Std': annualized_sd, 'Sharpe Ratio': sharpe_ratio, 'Max Drawdown': max_drawdown, 'Total Return':total_return}, ignore_index=True)"
   ]
  },
  {
   "cell_type": "code",
   "execution_count": 4,
   "metadata": {},
   "outputs": [
    {
     "data": {
      "text/html": [
       "<div>\n",
       "<style scoped>\n",
       "    .dataframe tbody tr th:only-of-type {\n",
       "        vertical-align: middle;\n",
       "    }\n",
       "\n",
       "    .dataframe tbody tr th {\n",
       "        vertical-align: top;\n",
       "    }\n",
       "\n",
       "    .dataframe thead th {\n",
       "        text-align: right;\n",
       "    }\n",
       "</style>\n",
       "<table border=\"1\" class=\"dataframe\">\n",
       "  <thead>\n",
       "    <tr style=\"text-align: right;\">\n",
       "      <th></th>\n",
       "      <th>Ticker</th>\n",
       "      <th>Annualized Return</th>\n",
       "      <th>Annualized Std</th>\n",
       "      <th>Sharpe Ratio</th>\n",
       "      <th>Max Drawdown</th>\n",
       "      <th>Total Return</th>\n",
       "    </tr>\n",
       "  </thead>\n",
       "  <tbody>\n",
       "    <tr>\n",
       "      <th>0</th>\n",
       "      <td>VXUS</td>\n",
       "      <td>0.042144</td>\n",
       "      <td>0.168755</td>\n",
       "      <td>0.249733</td>\n",
       "      <td>0.399215</td>\n",
       "      <td>0.510299</td>\n",
       "    </tr>\n",
       "    <tr>\n",
       "      <th>1</th>\n",
       "      <td>SPY</td>\n",
       "      <td>0.140734</td>\n",
       "      <td>0.161864</td>\n",
       "      <td>0.869460</td>\n",
       "      <td>0.341047</td>\n",
       "      <td>2.725322</td>\n",
       "    </tr>\n",
       "    <tr>\n",
       "      <th>2</th>\n",
       "      <td>AGG</td>\n",
       "      <td>0.003626</td>\n",
       "      <td>0.040569</td>\n",
       "      <td>0.089368</td>\n",
       "      <td>0.095792</td>\n",
       "      <td>0.036808</td>\n",
       "    </tr>\n",
       "    <tr>\n",
       "      <th>3</th>\n",
       "      <td>GLD</td>\n",
       "      <td>0.009262</td>\n",
       "      <td>0.150608</td>\n",
       "      <td>0.061499</td>\n",
       "      <td>0.421116</td>\n",
       "      <td>0.096460</td>\n",
       "    </tr>\n",
       "    <tr>\n",
       "      <th>4</th>\n",
       "      <td>BWX</td>\n",
       "      <td>-0.004962</td>\n",
       "      <td>0.072421</td>\n",
       "      <td>-0.068513</td>\n",
       "      <td>0.178439</td>\n",
       "      <td>-0.048469</td>\n",
       "    </tr>\n",
       "  </tbody>\n",
       "</table>\n",
       "</div>"
      ],
      "text/plain": [
       "  Ticker  Annualized Return  Annualized Std  Sharpe Ratio  Max Drawdown  \\\n",
       "0   VXUS           0.042144        0.168755      0.249733      0.399215   \n",
       "1    SPY           0.140734        0.161864      0.869460      0.341047   \n",
       "2    AGG           0.003626        0.040569      0.089368      0.095792   \n",
       "3    GLD           0.009262        0.150608      0.061499      0.421116   \n",
       "4    BWX          -0.004962        0.072421     -0.068513      0.178439   \n",
       "\n",
       "   Total Return  \n",
       "0      0.510299  \n",
       "1      2.725322  \n",
       "2      0.036808  \n",
       "3      0.096460  \n",
       "4     -0.048469  "
      ]
     },
     "execution_count": 4,
     "metadata": {},
     "output_type": "execute_result"
    }
   ],
   "source": [
    "etf_df"
   ]
  },
  {
   "cell_type": "code",
   "execution_count": 5,
   "metadata": {},
   "outputs": [
    {
     "data": {
      "image/png": "[encoded data removed]",
      "text/plain": [
       "<Figure size 432x288 with 1 Axes>"
      ]
     },
     "metadata": {
      "needs_background": "light"
     },
     "output_type": "display_data"
    },
    {
     "data": {
      "image/png": "[encoded data removed]",
      "text/plain": [
       "<Figure size 432x288 with 1 Axes>"
      ]
     },
     "metadata": {
      "needs_background": "light"
     },
     "output_type": "display_data"
    },
    {
     "data": {
      "image/png": "[encoded data removed]",
      "text/plain": [
       "<Figure size 432x288 with 1 Axes>"
      ]
     },
     "metadata": {
      "needs_background": "light"
     },
     "output_type": "display_data"
    },
    {
     "data": {
      "image/png": "[encoded data removed]",
      "text/plain": [
       "<Figure size 432x288 with 1 Axes>"
      ]
     },
     "metadata": {
      "needs_background": "light"
     },
     "output_type": "display_data"
    },
    {
     "data": {
      "image/png": "[encoded data removed]",
      "text/plain": [
       "<Figure size 432x288 with 1 Axes>"
      ]
     },
     "metadata": {
      "needs_background": "light"
     },
     "output_type": "display_data"
    }
   ],
   "source": [
    "#Iterate through each ETF again\n",
    "for ticker in etfs['TICKER'].unique():\n",
    "    cumulative_returns = []\n",
    "    subset_df = etfs[etfs['TICKER'] == ticker]\n",
    "\n",
    "    for day in range(len(subset_df)):\n",
    "        #For each day, get cumulative return up until that point\n",
    "        cumulative_ret = (1+subset_df['return'].iloc[:day+1]).prod()\n",
    "        #Add these cumulative returns to a list and multiply by 100 since we're looking at $100 invested\n",
    "        cumulative_returns.append(cumulative_ret*100)\n",
    "    #Plot performance of $100 invested at 12/31/2011 over time\n",
    "    plt.plot(subset_df['date'], cumulative_returns)\n",
    "    plt.title(ticker)\n",
    "    plt.gca().yaxis.set_major_formatter('${x:1.0f}')\n",
    "\n",
    "    plt.show()"
   ]
  },
  {
   "cell_type": "code",
   "execution_count": 6,
   "metadata": {},
   "outputs": [],
   "source": [
    "#Make a new column for what month it is\n",
    "etfs['month'] = etfs['date'].dt.to_period('M')"
   ]
  },
  {
   "cell_type": "code",
   "execution_count": 7,
   "metadata": {},
   "outputs": [],
   "source": [
    "def cumulative_plot(data):\n",
    "    #Since each ETF has the same total value for each date, we can just take the mean to extract the total value for a given date\n",
    "    total_values = data.groupby('date')['total_val'].mean()\n",
    "    #We then compute the percentage change in total value to get the daily portfolio return\n",
    "    daily_returns = total_values.pct_change()\n",
    "    #Make index of daily returns a column called date\n",
    "    daily_returns = daily_returns.reset_index()\n",
    "    #Set index of daily returns to be number \n",
    "    daily_returns.index = range(len(daily_returns))\n",
    "    cumulative_returns = []\n",
    "    for day in range(len(daily_returns)):\n",
    "        #For each day, get cumulative return up until that point\n",
    "        cumulative_ret = (1+daily_returns['total_val'].iloc[:day+1]).prod()\n",
    "        #Add these cumulative returns to a list and multiply by 100 since we're looking at $100 invested\n",
    "        cumulative_returns.append(cumulative_ret*100)\n",
    "    #Plot performance of $100 invested at 12/31/2011 over time\n",
    "    plt.plot(daily_returns['date'], np.array(cumulative_returns))\n",
    "    plt.title('Portfolio Performance')\n",
    "    plt.gca().yaxis.set_major_formatter('${x:1.0f}')\n",
    "    plt.show()"
   ]
  },
  {
   "cell_type": "code",
   "execution_count": 45,
   "metadata": {},
   "outputs": [],
   "source": [
    "def portfolio_analysis(data):\n",
    "    #set up empty data frame with 5 columns\n",
    "    result_df = pd.DataFrame(columns=['Annualized Return', 'Annualized Std', 'Sharpe Ratio', 'Max Drawdown'])\n",
    "    #Since each ETF has the same total value for each date, we can just take the mean to extract the total value for a given date\n",
    "    total_values = data.groupby('date')['total_val'].mean()\n",
    "    #We then compute the percentage change in total value to get the daily portfolio return\n",
    "    daily_returns = total_values.pct_change()\n",
    "    #Compute total return over the 10 years, then annualize\n",
    "    total_return = data['total_val'].iloc[-1]/data['total_val'].iloc[0]-1\n",
    "    annualized_return = (1+total_return)**(252/len(data['date'].unique()))-1\n",
    "    #Get annualized standard deviation\n",
    "    annualized_sd = daily_returns.std()*252**0.5\n",
    "    #Find the Sharpe Ratio from the annualized return and standard deviation\n",
    "    sharpe_ratio = annualized_return/annualized_sd\n",
    "    #Get the max drawdown \n",
    "    max_drawdown = ((np.maximum.accumulate(subset_df['PRC']) - subset_df['PRC'])/np.maximum.accumulate(subset_df['PRC'])).max()\n",
    "    #Add results to dataframe\n",
    "    result_df = result_df.append({'Annualized Return': annualized_return, 'Annualized Std': annualized_sd, 'Sharpe Ratio': sharpe_ratio, 'Max Drawdown': max_drawdown, 'Total Return':total_return}, ignore_index=True)\n",
    "    \n",
    "    return result_df"
   ]
  },
  {
   "cell_type": "code",
   "execution_count": 43,
   "metadata": {},
   "outputs": [],
   "source": [
    "def create_portfolio(data,tickers,target_weights,min_date,max_date,initial_investment):\n",
    "    etfs = data\n",
    "    etfs = etfs[etfs['date']>=dt.strptime(min_date, '%m/%d/%Y')]\n",
    "    etfs = etfs[etfs['date']<=dt.strptime(max_date, '%m/%d/%Y')]\n",
    "    etfs = etfs[etfs['TICKER'].isin(tickers)]\n",
    "    \n",
    "    #Find the earliest date in the data\n",
    "    first_date = etfs['date'].min()\n",
    "\n",
    "    #Find the last day of each month\n",
    "    last_days = etfs.groupby('month')['date'].max()\n",
    "    \n",
    "    for i in range(len(tickers)):\n",
    "            #For the very first day of the data, update quantity so that it times the price divided by the total portfolio value is equal to the target weight\n",
    "            #For now, the portfolio value is the initial investment value\n",
    "            etfs.loc[(etfs['date']==first_date) & (etfs['TICKER']==tickers[i]), 'quantity'] = target_weights[i]/etfs.loc[(etfs['date']==first_date) & (etfs['TICKER']==tickers[i]), 'PRC']*initial_investment\n",
    "\n",
    "    #For all na values in the quantity column (i.e. not the very first day), set the quantity to be the same as the previous day so all quantities match the first day of the month\n",
    "    etfs['quantity'] = etfs['quantity'].fillna(method='ffill')\n",
    "    #For all na values in the weighted value column (i.e. not the first day of the month), set the weighted value to be the quantity times the price\n",
    "    etfs['weighted_val'] = etfs['quantity']*etfs['PRC']\n",
    "    #Set total value column equal to sum of weighted values on that day\n",
    "    etfs['total_val'] = etfs.groupby('date')['weighted_val'].transform('sum')\n",
    "    #Compute weight as the weighted value of the ETF divided by the total value on that day\n",
    "    etfs['weight'] = etfs['weighted_val']/etfs['total_val']\n",
    "\n",
    "    #For all days except first_date, set quantity to na\n",
    "    etfs.loc[etfs['date']!=first_date, 'quantity'] = np.nan\n",
    "    for date in last_days.values:\n",
    "        for i in range(len(tickers)):\n",
    "                etfs.loc[(etfs['date']==date) & (etfs['TICKER']==tickers[i]), 'quantity'] = target_weights[i]/etfs.loc[(etfs['date']==date) & (etfs['TICKER']==tickers[i]), 'PRC']*etfs.loc[(etfs['date']==date) & (etfs['TICKER']==tickers[i]), 'total_val']\n",
    "\n",
    "    #Re-establish quantity, weighted value, total value, and weight columns \n",
    "    etfs['quantity'] = etfs['quantity'].fillna(method='ffill')\n",
    "    etfs['weighted_val'] = etfs['quantity']*etfs['PRC']\n",
    "    etfs['total_val'] = etfs.groupby('date')['weighted_val'].transform('sum')\n",
    "    etfs['weight'] = etfs['weighted_val']/etfs['total_val']\n",
    "    return [portfolio_analysis(etfs),cumulative_plot(etfs)]\n",
    "    "
   ]
  },
  {
   "cell_type": "code",
   "execution_count": 46,
   "metadata": {},
   "outputs": [
    {
     "data": {
      "image/png": "[encoded data removed]",
      "text/plain": [
       "<Figure size 432x288 with 1 Axes>"
      ]
     },
     "metadata": {
      "needs_background": "light"
     },
     "output_type": "display_data"
    },
    {
     "data": {
      "text/plain": [
       "[   Annualized Return  Annualized Std  Sharpe Ratio  Max Drawdown  Total Return\n",
       " 0           0.063609        0.095564      0.665619      0.178439      0.851404,\n",
       " None]"
      ]
     },
     "execution_count": 46,
     "metadata": {},
     "output_type": "execute_result"
    }
   ],
   "source": [
    "target_weights = [0.3, 0.25, 0.2, 0.15, 0.1]\n",
    "tickers = etfs['TICKER'].unique()\n",
    "create_portfolio(etfs,tickers,target_weights,'1/3/2012','12/31/2021',100)"
   ]
  },
  {
   "cell_type": "code",
   "execution_count": 11,
   "metadata": {},
   "outputs": [
    {
     "data": {
      "text/html": [
       "<div>\n",
       "<style scoped>\n",
       "    .dataframe tbody tr th:only-of-type {\n",
       "        vertical-align: middle;\n",
       "    }\n",
       "\n",
       "    .dataframe tbody tr th {\n",
       "        vertical-align: top;\n",
       "    }\n",
       "\n",
       "    .dataframe thead th {\n",
       "        text-align: right;\n",
       "    }\n",
       "</style>\n",
       "<table border=\"1\" class=\"dataframe\">\n",
       "  <thead>\n",
       "    <tr style=\"text-align: right;\">\n",
       "      <th></th>\n",
       "      <th>PERMNO</th>\n",
       "      <th>date</th>\n",
       "      <th>TICKER</th>\n",
       "      <th>FACPR</th>\n",
       "      <th>PRC</th>\n",
       "      <th>return</th>\n",
       "      <th>month</th>\n",
       "    </tr>\n",
       "  </thead>\n",
       "  <tbody>\n",
       "    <tr>\n",
       "      <th>234</th>\n",
       "      <td>12508</td>\n",
       "      <td>2012-01-03</td>\n",
       "      <td>VXUS</td>\n",
       "      <td>NaN</td>\n",
       "      <td>42.091</td>\n",
       "      <td>NaN</td>\n",
       "      <td>2012-01</td>\n",
       "    </tr>\n",
       "    <tr>\n",
       "      <th>235</th>\n",
       "      <td>12508</td>\n",
       "      <td>2012-01-04</td>\n",
       "      <td>VXUS</td>\n",
       "      <td>NaN</td>\n",
       "      <td>41.900</td>\n",
       "      <td>-0.004538</td>\n",
       "      <td>2012-01</td>\n",
       "    </tr>\n",
       "    <tr>\n",
       "      <th>236</th>\n",
       "      <td>12508</td>\n",
       "      <td>2012-01-05</td>\n",
       "      <td>VXUS</td>\n",
       "      <td>NaN</td>\n",
       "      <td>41.440</td>\n",
       "      <td>-0.010979</td>\n",
       "      <td>2012-01</td>\n",
       "    </tr>\n",
       "    <tr>\n",
       "      <th>237</th>\n",
       "      <td>12508</td>\n",
       "      <td>2012-01-06</td>\n",
       "      <td>VXUS</td>\n",
       "      <td>NaN</td>\n",
       "      <td>40.900</td>\n",
       "      <td>-0.013031</td>\n",
       "      <td>2012-01</td>\n",
       "    </tr>\n",
       "    <tr>\n",
       "      <th>238</th>\n",
       "      <td>12508</td>\n",
       "      <td>2012-01-09</td>\n",
       "      <td>VXUS</td>\n",
       "      <td>NaN</td>\n",
       "      <td>41.150</td>\n",
       "      <td>0.006112</td>\n",
       "      <td>2012-01</td>\n",
       "    </tr>\n",
       "    <tr>\n",
       "      <th>...</th>\n",
       "      <td>...</td>\n",
       "      <td>...</td>\n",
       "      <td>...</td>\n",
       "      <td>...</td>\n",
       "      <td>...</td>\n",
       "      <td>...</td>\n",
       "      <td>...</td>\n",
       "    </tr>\n",
       "    <tr>\n",
       "      <th>13910</th>\n",
       "      <td>92360</td>\n",
       "      <td>2021-12-27</td>\n",
       "      <td>BWX</td>\n",
       "      <td>NaN</td>\n",
       "      <td>56.520</td>\n",
       "      <td>0.000708</td>\n",
       "      <td>2021-12</td>\n",
       "    </tr>\n",
       "    <tr>\n",
       "      <th>13911</th>\n",
       "      <td>92360</td>\n",
       "      <td>2021-12-28</td>\n",
       "      <td>BWX</td>\n",
       "      <td>NaN</td>\n",
       "      <td>56.300</td>\n",
       "      <td>-0.003892</td>\n",
       "      <td>2021-12</td>\n",
       "    </tr>\n",
       "    <tr>\n",
       "      <th>13912</th>\n",
       "      <td>92360</td>\n",
       "      <td>2021-12-29</td>\n",
       "      <td>BWX</td>\n",
       "      <td>NaN</td>\n",
       "      <td>56.320</td>\n",
       "      <td>0.000355</td>\n",
       "      <td>2021-12</td>\n",
       "    </tr>\n",
       "    <tr>\n",
       "      <th>13913</th>\n",
       "      <td>92360</td>\n",
       "      <td>2021-12-30</td>\n",
       "      <td>BWX</td>\n",
       "      <td>NaN</td>\n",
       "      <td>56.280</td>\n",
       "      <td>-0.000710</td>\n",
       "      <td>2021-12</td>\n",
       "    </tr>\n",
       "    <tr>\n",
       "      <th>13914</th>\n",
       "      <td>92360</td>\n",
       "      <td>2021-12-31</td>\n",
       "      <td>BWX</td>\n",
       "      <td>NaN</td>\n",
       "      <td>56.540</td>\n",
       "      <td>0.004620</td>\n",
       "      <td>2021-12</td>\n",
       "    </tr>\n",
       "  </tbody>\n",
       "</table>\n",
       "<p>12585 rows × 7 columns</p>\n",
       "</div>"
      ],
      "text/plain": [
       "       PERMNO       date TICKER  FACPR     PRC    return    month\n",
       "234     12508 2012-01-03   VXUS    NaN  42.091       NaN  2012-01\n",
       "235     12508 2012-01-04   VXUS    NaN  41.900 -0.004538  2012-01\n",
       "236     12508 2012-01-05   VXUS    NaN  41.440 -0.010979  2012-01\n",
       "237     12508 2012-01-06   VXUS    NaN  40.900 -0.013031  2012-01\n",
       "238     12508 2012-01-09   VXUS    NaN  41.150  0.006112  2012-01\n",
       "...       ...        ...    ...    ...     ...       ...      ...\n",
       "13910   92360 2021-12-27    BWX    NaN  56.520  0.000708  2021-12\n",
       "13911   92360 2021-12-28    BWX    NaN  56.300 -0.003892  2021-12\n",
       "13912   92360 2021-12-29    BWX    NaN  56.320  0.000355  2021-12\n",
       "13913   92360 2021-12-30    BWX    NaN  56.280 -0.000710  2021-12\n",
       "13914   92360 2021-12-31    BWX    NaN  56.540  0.004620  2021-12\n",
       "\n",
       "[12585 rows x 7 columns]"
      ]
     },
     "execution_count": 11,
     "metadata": {},
     "output_type": "execute_result"
    }
   ],
   "source": [
    "etfs"
   ]
  },
  {
   "cell_type": "markdown",
   "metadata": {},
   "source": [
    "## Weight Optimization  "
   ]
  },
  {
   "cell_type": "code",
   "execution_count": 12,
   "metadata": {},
   "outputs": [],
   "source": [
    "#Get a dataframe indexed by date and columns for each etf with the return of each etf on that day\n",
    "etf_returns = pd.DataFrame()\n",
    "for i in range(len(tickers)):\n",
    "    etf_returns[tickers[i]] = etfs.loc[etfs['TICKER']==tickers[i], 'return'].values\n",
    "etf_returns.index = etfs.loc[etfs['TICKER']==tickers[i], 'date'].values\n",
    "#Drop the first row because it's na\n",
    "etf_returns = etf_returns.dropna()"
   ]
  },
  {
   "cell_type": "code",
   "execution_count": 15,
   "metadata": {},
   "outputs": [],
   "source": [
    "#Get a dataframe indexed by date and columns for each etf with the return of each etf on that day\n",
    "etf_prices = pd.DataFrame()\n",
    "for i in range(len(tickers)):\n",
    "    etf_prices[tickers[i]] = etfs.loc[etfs['TICKER']==tickers[i], 'PRC'].values\n",
    "etf_prices.index = etfs.loc[etfs['TICKER']==tickers[i], 'date'].values"
   ]
  },
  {
   "cell_type": "code",
   "execution_count": 23,
   "metadata": {},
   "outputs": [],
   "source": [
    "def get_sharpe_ratio(data, weights):\n",
    "    #Get list of prices on last day of etfs\n",
    "    final_prices = []\n",
    "    for i in range(len(tickers)):\n",
    "        final_prices.append(etfs.loc[etfs['TICKER']==tickers[i], 'PRC'].values[-1])\n",
    "    first_prices = []\n",
    "    for i in range(len(tickers)):\n",
    "        first_prices.append(etfs.loc[etfs['TICKER']==tickers[i], 'PRC'].values[0])\n",
    "    cum_returns = (np.array(final_prices)-np.array(first_prices))/first_prices\n",
    "    total_return = np.dot(weights,cum_returns)\n",
    "    annualized_return = (1+total_return)**(252/(len(etfs)/len(tickers)))-1\n",
    "    for i in range(len(weights)):\n",
    "        etf_returns[tickers[i]] = etf_returns[tickers[i]]*weights[i]\n",
    "    #Get portfolio return by adding together weighted returns\n",
    "    etf_returns['portfolio_return'] = etf_returns.sum(axis=1)\n",
    "\n",
    "    #Get annualized standard deviation\n",
    "    annualized_sd = etf_returns['portfolio_return'].std()*252**0.5\n",
    "    #Find the Sharpe Ratio from the annualized return and standard deviation\n",
    "    sharpe_ratio = annualized_return/annualized_sd\n",
    "    return weights,sharpe_ratio"
   ]
  },
  {
   "cell_type": "code",
   "execution_count": 40,
   "metadata": {},
   "outputs": [
    {
     "name": "stdout",
     "output_type": "stream",
     "text": [
      "[0.44530381 0.44878813 0.04190921 0.01098644 0.05301241]\n"
     ]
    },
    {
     "data": {
      "text/plain": [
       "0.7946774417499606"
      ]
     },
     "execution_count": 40,
     "metadata": {},
     "output_type": "execute_result"
    }
   ],
   "source": [
    "weights_df = pd.DataFrame(columns=['weights','sharpe_ratio'])\n",
    "for i in range(100000):\n",
    "    weights = np.zeros(5)\n",
    "    weights = np.random.random(5)\n",
    "    weights = weights/np.sum(weights)\n",
    "    weights_df.loc[i] = get_sharpe_ratio(etf_returns,weights)\n",
    "#Subset weights_df so that max of weights is less than 0.45\n",
    "weights_df = weights_df.loc[weights_df['weights'].apply(lambda x: max(x))<0.45]\n",
    "#Return the row with the highest sharpe ratio and print weights and sharpe ratio\n",
    "top_sr = weights_df.loc[weights_df['sharpe_ratio'].idxmax()]\n",
    "print(top_sr['weights'])\n",
    "top_sr['sharpe_ratio']\n"
   ]
  },
  {
   "cell_type": "code",
   "execution_count": 47,
   "metadata": {},
   "outputs": [
    {
     "data": {
      "image/png": "[encoded data removed]",
      "text/plain": [
       "<Figure size 432x288 with 1 Axes>"
      ]
     },
     "metadata": {
      "needs_background": "light"
     },
     "output_type": "display_data"
    },
    {
     "data": {
      "text/plain": [
       "[   Annualized Return  Annualized Std  Sharpe Ratio  Max Drawdown  Total Return\n",
       " 0           0.093879        0.142763      0.657587      0.178439      1.450363,\n",
       " None]"
      ]
     },
     "execution_count": 47,
     "metadata": {},
     "output_type": "execute_result"
    }
   ],
   "source": [
    "create_portfolio(etfs,tickers,top_sr['weights'],'1/3/2012','12/31/2021',100)"
   ]
  },
  {
   "cell_type": "markdown",
   "metadata": {},
   "source": [
    "## This was what I tried earlier, just keeping it for now in case"
   ]
  },
  {
   "cell_type": "code",
   "execution_count": 13,
   "metadata": {},
   "outputs": [
    {
     "name": "stdout",
     "output_type": "stream",
     "text": [
      "[0.76183318 0.73855082 0.73331598 0.30775993 0.19663672]\n",
      "<class 'numpy.ndarray'>\n"
     ]
    },
    {
     "data": {
      "text/plain": [
       "0.8841959560078309"
      ]
     },
     "execution_count": 13,
     "metadata": {},
     "output_type": "execute_result"
    }
   ],
   "source": [
    "# weights = np.zeros(5)\n",
    "# weights = np.random.random(5)\n",
    "# print(weights)\n",
    "# weights = weights/np.sum(weights)\n",
    "# print(type(weights))\n",
    "# cumulative_returns = []\n",
    "# weights = [0.3, 0.25, 0.2, 0.15, 0.1]\n",
    "# for i in range(len(etf_returns)):\n",
    "#     cumulative_returns.append((1+(etf_returns[i])).cumprod()[-1]-1)\n",
    "# np.dot(weights,cumulative_returns)"
   ]
  },
  {
   "cell_type": "code",
   "execution_count": 12,
   "metadata": {},
   "outputs": [
    {
     "data": {
      "text/plain": [
       "[array([ 0.0291198 , -0.00453779, -0.01097852, ..., -0.00094295,\n",
       "         0.00141576, -0.00141376]),\n",
       " array([ 0.01589641,  0.00160791,  0.00266241, ...,  0.0012792 ,\n",
       "        -0.00276453, -0.00252018]),\n",
       " array([-0.00199546, -0.00136326,  0.00136513, ..., -0.00297697,\n",
       "         0.00219549, -0.00035051]),\n",
       " array([ 0.0258569 ,  0.00506677,  0.00682783, ..., -0.00029649,\n",
       "         0.00717718,  0.00683163]),\n",
       " array([ 0.0100289 , -0.00790979, -0.01221374, ...,  0.00035524,\n",
       "        -0.00071023,  0.00461976])]"
      ]
     },
     "execution_count": 12,
     "metadata": {},
     "output_type": "execute_result"
    }
   ],
   "source": [
    "# #get list of 5 returns per day for each etf\n",
    "# etf_returns = []\n",
    "# for i in range(len(tickers)):\n",
    "#     etf_returns.append(etfs.loc[etfs['TICKER']==tickers[i], 'return'].values)\n",
    "# etf_returns"
   ]
  },
  {
   "cell_type": "code",
   "execution_count": 14,
   "metadata": {},
   "outputs": [
    {
     "data": {
      "text/plain": [
       "[array([42.091, 41.9  , 41.44 , ..., 63.57 , 63.66 , 63.57 ]),\n",
       " array([127.495  , 127.7    , 128.03999, ..., 477.48001, 476.16   ,\n",
       "        474.95999]),\n",
       " array([110.03, 109.88, 110.03, ..., 113.87, 114.12, 114.08]),\n",
       " array([155.92   , 156.71001, 157.78   , ..., 168.59   , 169.8    ,\n",
       "        170.96001]),\n",
       " array([59.42, 58.95, 58.23, ..., 56.32, 56.28, 56.54])]"
      ]
     },
     "execution_count": 14,
     "metadata": {},
     "output_type": "execute_result"
    }
   ],
   "source": [
    "# #get list of 5 returns per day for each etf\n",
    "# etf_returns = []\n",
    "# for i in range(len(tickers)):\n",
    "#     etf_returns.append(etfs.loc[etfs['TICKER']==tickers[i], 'PRC'].values)\n",
    "# etf_returns"
   ]
  },
  {
   "cell_type": "code",
   "execution_count": 15,
   "metadata": {},
   "outputs": [
    {
     "name": "stdout",
     "output_type": "stream",
     "text": [
      "[0.93310535 0.72599649 0.83880159 0.80282052 0.95414278]\n"
     ]
    },
    {
     "data": {
      "text/plain": [
       "0.8514040987519006"
      ]
     },
     "execution_count": 15,
     "metadata": {},
     "output_type": "execute_result"
    }
   ],
   "source": [
    "# weights = np.zeros(5)\n",
    "# weights = np.random.random(5)\n",
    "# print(weights)\n",
    "# weights = weights/np.sum(weights)\n",
    "# cumulative_returns = []\n",
    "# weights = [0.3, 0.25, 0.2, 0.15, 0.1]\n",
    "# for i in range(len(etf_returns)):\n",
    "#     cumulative_returns.append((etf_returns[i][-1]-etf_returns[i][0])/etf_returns[i][0])\n",
    "# np.dot(weights,cumulative_returns)"
   ]
  },
  {
   "cell_type": "code",
   "execution_count": 11,
   "metadata": {},
   "outputs": [],
   "source": [
    "# def create_portfolio(data,tickers,target_weights,min_date,max_date):\n",
    "#     etfs = data\n",
    "#     etfs = etfs[etfs['date']>=dt.strptime(min_date, '%m/%d/%Y')]\n",
    "#     etfs = etfs[etfs['date']<=dt.strptime(max_date, '%m/%d/%Y')]\n",
    "#     etfs = etfs[etfs['TICKER'].isin(tickers)]\n",
    "    \n",
    "#     #Find the first day of each month\n",
    "#     first_days = etfs.groupby('month')['date'].min()\n",
    "#     last_days = etfs.groupby('month')['date'].max()\n",
    "#     #Set up dummy weights and quantities to get started\n",
    "#     etfs['weight'] = 1/(len(etfs['TICKER'].unique()))\n",
    "\n",
    "#     for date in first_days.values:\n",
    "#         for i in range(len(tickers)):\n",
    "#             #For the first day of each month, update quantity so that it times the price divided by the total portfolio value is equal to the target weight\n",
    "#             #For now, assume that total portfolio value is $100 initially invested\n",
    "#             etfs.loc[(etfs['date']==date) & (etfs['TICKER']==tickers[i]), 'quantity'] = target_weights[i]/etfs.loc[(etfs['date']==date) & (etfs['TICKER']==tickers[i]), 'PRC']*100\n",
    "\n",
    "#     #For all na values in the quantity column (i.e. not the first day of the month), set the quantity to be the same as the previous day so all quantities match the first day of the month\n",
    "#     etfs['quantity'] = etfs['quantity'].fillna(method='ffill')\n",
    "#     #For all na values in the weighted value column (i.e. not the first day of the month), set the weighted value to be the quantity times the price\n",
    "#     etfs['weighted_val'] = etfs['quantity']*etfs['PRC']\n",
    "#     #Set total value column equal to sum of weighted values on that day\n",
    "#     etfs['total_val'] = etfs.groupby('date')['weighted_val'].transform('sum')\n",
    "#     #Compute weight as the weighted value of the ETF divided by the total value on that day\n",
    "#     etfs['weight'] = etfs['weighted_val']/etfs['total_val']\n",
    "\n",
    "#     for date in last_days.values:\n",
    "#         for i in range(len(tickers)):\n",
    "#             #Make a new column that is na for every day except the last day of the month where it has that day's total value\n",
    "#             etfs.loc[(etfs['date']==date) & (etfs['TICKER']==tickers[i]), 'last_total_val'] = etfs.loc[(etfs['date']==date) & (etfs['TICKER']==tickers[i]), 'total_val']\n",
    "#     #Shift the column down one so that the first day of each month row has the total value of the last day of the previous month\n",
    "#     etfs['last_total_val'] = etfs.groupby(['TICKER'])['last_total_val'].shift(1)\n",
    "\n",
    "#     #Set all quantities to na so they can be reset\n",
    "#     # etfs['quantity'] = np.nan\n",
    "#     #etfs['last_total_val'] = np.nan\n",
    "#     for date in etfs['date'].unique():\n",
    "#         if date in first_days.values:\n",
    "#             for i in range(len(tickers)):\n",
    "#                 #Check if last total value is na so don't replace data for the very first day of each ticker\n",
    "#                 if pd.notna(etfs.loc[(etfs['date']==date) & (etfs['TICKER']==tickers[i]), 'last_total_val']).bool():\n",
    "#                     #Change quantity so that it times the price equals the previous day's total value\n",
    "#                     #set quantity for all rows in that month\n",
    "#                     etfs.loc[(etfs['date']>=date) & (etfs['TICKER']==tickers[i]), 'quantity'] = target_weights[i]/etfs.loc[(etfs['date']==date) & (etfs['TICKER']==tickers[i]), 'PRC']*etfs.loc[(etfs['date']==date) & (etfs['TICKER']==tickers[i]), 'last_total_val']\n",
    "#                     etfs.loc[(etfs['date']==date) & (etfs['TICKER']==tickers[i]), 'weighted_val'] = etfs.loc[(etfs['date']==date) & (etfs['TICKER']==tickers[i]), 'quantity']*etfs.loc[(etfs['date']==date) & (etfs['TICKER']==tickers[i]), 'PRC']\n",
    "#                     etfs.loc[(etfs['date']==date) & (etfs['TICKER']==tickers[i]), 'total_val'] = etfs.loc[(etfs['date']==date), 'weighted_val'].sum()\n",
    "#                     etfs.loc[(etfs['date']==date) & (etfs['TICKER']==tickers[i]), 'weight'] = etfs.loc[(etfs['date']==date) & (etfs['TICKER']==tickers[i]), 'weighted_val']/etfs.loc[(etfs['date']==date) & (etfs['TICKER']==tickers[i]), 'total_val']\n",
    "#                 else:\n",
    "#                     #Set up the values the same way as above if last total value is na (i.e. for the very first day of each ticker)\n",
    "#                     etfs.loc[(etfs['date']==date) & (etfs['TICKER']==tickers[i]), 'quantity'] = target_weights[i]/etfs.loc[(etfs['date']==date) & (etfs['TICKER']==tickers[i]), 'PRC']*etfs.loc[(etfs['date']==date) & (etfs['TICKER']==tickers[i]), 'total_val']\n",
    "#                     etfs.loc[(etfs['date']==date) & (etfs['TICKER']==tickers[i]), 'weighted_val'] = etfs.loc[(etfs['date']==date) & (etfs['TICKER']==tickers[i]), 'quantity']*etfs.loc[(etfs['date']==date) & (etfs['TICKER']==tickers[i]), 'PRC']\n",
    "#                     etfs.loc[(etfs['date']==date) & (etfs['TICKER']==tickers[i]), 'total_val'] = etfs.loc[(etfs['date']==date), 'weighted_val'].sum()\n",
    "#                     etfs.loc[(etfs['date']==date) & (etfs['TICKER']==tickers[i]), 'weight'] = etfs.loc[(etfs['date']==date) & (etfs['TICKER']==tickers[i]), 'weighted_val']/etfs.loc[(etfs['date']==date) & (etfs['TICKER']==tickers[i]), 'total_val']\n",
    "#         else:\n",
    "#             for j in range(len(tickers)):\n",
    "#                 etfs.loc[(etfs['date']==date) & (etfs['TICKER']==tickers[j]), 'weighted_val'] = etfs.loc[(etfs['date']==date) & (etfs['TICKER']==tickers[j]), 'quantity']*etfs.loc[(etfs['date']==date) & (etfs['TICKER']==tickers[j]), 'PRC']\n",
    "#                 etfs.loc[(etfs['date']==date) & (etfs['TICKER']==tickers[j]), 'total_val'] = etfs.loc[(etfs['date']==date), 'weighted_val'].sum()\n",
    "#                 etfs.loc[(etfs['date']==date) & (etfs['TICKER']==tickers[j]), 'weight'] = etfs.loc[(etfs['date']==date) & (etfs['TICKER']==tickers[j]), 'weighted_val']/etfs.loc[(etfs['date']==date) & (etfs['TICKER']==tickers[j]), 'total_val']\n",
    "#             if date in last_days.values:\n",
    "#                 for i in range(len(tickers)):\n",
    "#                     #Make a new column that is na for every day except the last day of the month where it has that day's total value\n",
    "#                     etfs.loc[(etfs['date']==date) & (etfs['TICKER']==tickers[i]), 'last_total_val'] = etfs.loc[(etfs['date']==date) & (etfs['TICKER']==tickers[i]), 'total_val']\n",
    "#                 etfs['last_total_val'] = etfs.groupby(['TICKER'])['last_total_val'].shift(1)\n",
    "#     #Re-establish quantity, weighted value, total value, and weight columns \n",
    "#     # etfs['quantity'] = etfs['quantity'].fillna(method='ffill')\n",
    "#     # etfs['weighted_val'] = etfs['quantity']*etfs['PRC']\n",
    "#     # etfs['total_val'] = etfs.groupby('date')['weighted_val'].transform('sum')\n",
    "#     # etfs['weight'] = etfs['weighted_val']/etfs['total_val']\n",
    "#     return etfs[150:200]"
   ]
  },
  {
   "cell_type": "code",
   "execution_count": null,
   "metadata": {},
   "outputs": [],
   "source": [
    "# subset_df = etfs[etfs['date']>=first_days.)]\n",
    "# price = np.array()\n",
    "# # The number of shares for each security in the portfolio\n",
    "# # at the beginning of each period\n",
    "# quantity = np.zeros_like(price)\n",
    "\n",
    "# initial_investment = 1\n",
    "# target_weight = np.array([0.25, 0.25, 0.25, 0.25])\n",
    "\n",
    "# for i in range(price.shape[0]):\n",
    "#     if i == 0:\n",
    "#         quantity[i] = initial_investment * target_weight / price[i]\n",
    "#     else:\n",
    "#         portfolio_value = (quantity[i-1] * price[i]).sum()\n",
    "#         quantity[i] = portfolio_value * target_weight / price[i]"
   ]
  }
 ],
 "metadata": {
  "kernelspec": {
   "display_name": "Python 3.8.6 64-bit",
   "language": "python",
   "name": "python3"
  },
  "language_info": {
   "codemirror_mode": {
    "name": "ipython",
    "version": 3
   },
   "file_extension": ".py",
   "mimetype": "text/x-python",
   "name": "python",
   "nbconvert_exporter": "python",
   "pygments_lexer": "ipython3",
   "version": "3.8.6"
  },
  "orig_nbformat": 4,
  "vscode": {
   "interpreter": {
    "hash": "bff7ade9f6a8e9509b44c47f8da4ba87c411809777b52a7a3281856a3f2bef39"
   }
  }
 },
 "nbformat": 4,
 "nbformat_minor": 2
}
