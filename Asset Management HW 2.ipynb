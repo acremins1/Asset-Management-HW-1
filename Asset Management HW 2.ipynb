{
 "cells": [
  {
   "cell_type": "code",
   "execution_count": 50,
   "metadata": {},
   "outputs": [],
   "source": [
    "import pandas as pd\n",
    "import numpy as np\n",
    "import statsmodels.api as sm"
   ]
  },
  {
   "cell_type": "code",
   "execution_count": 51,
   "metadata": {},
   "outputs": [
    {
     "name": "stderr",
     "output_type": "stream",
     "text": [
      "c:\\Users\\amcre\\AppData\\Local\\Programs\\Python\\Python38\\lib\\site-packages\\IPython\\core\\interactiveshell.py:3155: DtypeWarning: Columns (3,10) have mixed types.Specify dtype option on import or set low_memory=False.\n",
      "  has_raised = await self.run_ast_nodes(code_ast.body, cell_name,\n"
     ]
    }
   ],
   "source": [
    "#Read in quarterly data from all mutual funds over all years in CRSP\n",
    "fund_data = pd.read_csv('Mutual Fund Data.csv')\n",
    "#Get only the Small Cap Value Funds\n",
    "fund_data = fund_data[fund_data['lipper_class'] == 'SCVE']"
   ]
  },
  {
   "cell_type": "code",
   "execution_count": 52,
   "metadata": {},
   "outputs": [
    {
     "data": {
      "text/plain": [
       "0"
      ]
     },
     "execution_count": 52,
     "metadata": {},
     "output_type": "execute_result"
    }
   ],
   "source": [
    "#Check for missing values in nav_latest\n",
    "fund_data['nav_latest'].isnull().sum()"
   ]
  },
  {
   "cell_type": "code",
   "execution_count": 53,
   "metadata": {},
   "outputs": [],
   "source": [
    "#find values of nav_latest that aren't float\n",
    "fund_data['nav_latest'] = fund_data['nav_latest'].apply(lambda x: np.nan if type(x) != float else x)"
   ]
  },
  {
   "cell_type": "code",
   "execution_count": 54,
   "metadata": {},
   "outputs": [
    {
     "data": {
      "text/plain": [
       "719        1\n",
       "720        1\n",
       "721        1\n",
       "902        0\n",
       "903        0\n",
       "          ..\n",
       "2433557    0\n",
       "2433558    0\n",
       "2433559    0\n",
       "2433560    1\n",
       "2433660    0\n",
       "Name: retail_fund, Length: 29054, dtype: category\n",
       "Categories (2, int64): [0, 1]"
      ]
     },
     "execution_count": 54,
     "metadata": {},
     "output_type": "execute_result"
    }
   ],
   "source": [
    "#Compute returns by comparing NAV to NAV from the previous quarter\n",
    "fund_data['return'] = fund_data.groupby(['fund_name'])['nav_latest'].pct_change()\n",
    "#change the retail_fund column to a boolean\n",
    "fund_data['retail_fund'] = fund_data['retail_fund'].apply(lambda x: 1 if x == 'Y' else 0).astype('category')\n",
    "fund_data['retail_fund']"
   ]
  },
  {
   "cell_type": "code",
   "execution_count": 55,
   "metadata": {},
   "outputs": [
    {
     "data": {
      "image/png": "[encoded data removed]",
      "text/plain": [
       "<Figure size 432x288 with 1 Axes>"
      ]
     },
     "metadata": {
      "needs_background": "light"
     },
     "output_type": "display_data"
    }
   ],
   "source": [
    "#plot histogram of returns with a log scale \n",
    "fund_data['return'].hist(bins=100, log=True)\n",
    "#log transform the return column\n",
    "fund_data['return'] = np.log(fund_data['return'] + 1)"
   ]
  },
  {
   "cell_type": "code",
   "execution_count": 56,
   "metadata": {},
   "outputs": [
    {
     "data": {
      "image/png": "[encoded data removed]",
      "text/plain": [
       "<Figure size 432x288 with 1 Axes>"
      ]
     },
     "metadata": {
      "needs_background": "light"
     },
     "output_type": "display_data"
    }
   ],
   "source": [
    "#drop rows where tna_latest is 0\n",
    "fund_data = fund_data[fund_data['tna_latest'] != 0]\n",
    "#plot histogram of tna_latest\n",
    "fund_data['tna_latest'].hist(bins=100,log=True)\n",
    "#log transform the tna_latest column\n",
    "fund_data['tna_latest'] = np.log(fund_data['tna_latest'])"
   ]
  },
  {
   "cell_type": "code",
   "execution_count": 57,
   "metadata": {},
   "outputs": [],
   "source": [
    "#get 5 bins of tna_latest\n",
    "fund_data['tna_latest_bin'] = pd.qcut(fund_data['tna_latest'], 5, labels=False)\n",
    "#drop rows with missing values in either return or tna_latest\n",
    "fund_data = fund_data.dropna(subset=['return', 'tna_latest','mgmt_fee'])"
   ]
  },
  {
   "cell_type": "code",
   "execution_count": 58,
   "metadata": {},
   "outputs": [],
   "source": [
    "#get dummies for tna_latest_bin\n",
    "fund_data = pd.get_dummies(fund_data, columns=['tna_latest_bin'])"
   ]
  },
  {
   "cell_type": "code",
   "execution_count": 59,
   "metadata": {},
   "outputs": [],
   "source": [
    "#find funds that have less than 20 observations and drop them\n",
    "fund_data = fund_data.groupby('fund_name').filter(lambda x: len(x) > 20)\n",
    "#create a dummy column for each fund name of type category\n",
    "fund_data = pd.get_dummies(fund_data, columns=['fund_name'], drop_first=True)\n",
    "\n"
   ]
  },
  {
   "cell_type": "code",
   "execution_count": 60,
   "metadata": {},
   "outputs": [
    {
     "ename": "KeyError",
     "evalue": "\"['tna_latest_bin'] not in index\"",
     "output_type": "error",
     "traceback": [
      "\u001b[1;31m---------------------------------------------------------------------------\u001b[0m",
      "\u001b[1;31mKeyError\u001b[0m                                  Traceback (most recent call last)",
      "\u001b[1;32m<ipython-input-60-b1504e23e19f>\u001b[0m in \u001b[0;36m<module>\u001b[1;34m\u001b[0m\n\u001b[0;32m      1\u001b[0m \u001b[1;31m#fit a regression model with return as the dependent variable and tna_latest, mgmt_fee, retail_fund, and the dummy columns as the independent variables\u001b[0m\u001b[1;33m\u001b[0m\u001b[1;33m\u001b[0m\u001b[1;33m\u001b[0m\u001b[0m\n\u001b[1;32m----> 2\u001b[1;33m \u001b[0mX\u001b[0m \u001b[1;33m=\u001b[0m \u001b[0mfund_data\u001b[0m\u001b[1;33m[\u001b[0m\u001b[1;33m[\u001b[0m\u001b[1;34m'tna_latest_bin'\u001b[0m\u001b[1;33m,\u001b[0m \u001b[1;34m'mgmt_fee'\u001b[0m\u001b[1;33m]\u001b[0m\u001b[1;33m]\u001b[0m\u001b[1;33m\u001b[0m\u001b[1;33m\u001b[0m\u001b[0m\n\u001b[0m\u001b[0;32m      3\u001b[0m \u001b[0my\u001b[0m \u001b[1;33m=\u001b[0m \u001b[0mfund_data\u001b[0m\u001b[1;33m[\u001b[0m\u001b[1;34m'return'\u001b[0m\u001b[1;33m]\u001b[0m\u001b[1;33m\u001b[0m\u001b[1;33m\u001b[0m\u001b[0m\n\u001b[0;32m      4\u001b[0m \u001b[0mX\u001b[0m \u001b[1;33m=\u001b[0m \u001b[0msm\u001b[0m\u001b[1;33m.\u001b[0m\u001b[0madd_constant\u001b[0m\u001b[1;33m(\u001b[0m\u001b[0mX\u001b[0m\u001b[1;33m)\u001b[0m\u001b[1;33m\u001b[0m\u001b[1;33m\u001b[0m\u001b[0m\n\u001b[0;32m      5\u001b[0m \u001b[0mmodel\u001b[0m \u001b[1;33m=\u001b[0m \u001b[0msm\u001b[0m\u001b[1;33m.\u001b[0m\u001b[0mOLS\u001b[0m\u001b[1;33m(\u001b[0m\u001b[0my\u001b[0m\u001b[1;33m,\u001b[0m \u001b[0mX\u001b[0m\u001b[1;33m)\u001b[0m\u001b[1;33m.\u001b[0m\u001b[0mfit\u001b[0m\u001b[1;33m(\u001b[0m\u001b[1;33m)\u001b[0m\u001b[1;33m\u001b[0m\u001b[1;33m\u001b[0m\u001b[0m\n",
      "\u001b[1;32mc:\\Users\\amcre\\AppData\\Local\\Programs\\Python\\Python38\\lib\\site-packages\\pandas\\core\\frame.py\u001b[0m in \u001b[0;36m__getitem__\u001b[1;34m(self, key)\u001b[0m\n\u001b[0;32m   3028\u001b[0m             \u001b[1;32mif\u001b[0m \u001b[0mis_iterator\u001b[0m\u001b[1;33m(\u001b[0m\u001b[0mkey\u001b[0m\u001b[1;33m)\u001b[0m\u001b[1;33m:\u001b[0m\u001b[1;33m\u001b[0m\u001b[1;33m\u001b[0m\u001b[0m\n\u001b[0;32m   3029\u001b[0m                 \u001b[0mkey\u001b[0m \u001b[1;33m=\u001b[0m \u001b[0mlist\u001b[0m\u001b[1;33m(\u001b[0m\u001b[0mkey\u001b[0m\u001b[1;33m)\u001b[0m\u001b[1;33m\u001b[0m\u001b[1;33m\u001b[0m\u001b[0m\n\u001b[1;32m-> 3030\u001b[1;33m             \u001b[0mindexer\u001b[0m \u001b[1;33m=\u001b[0m \u001b[0mself\u001b[0m\u001b[1;33m.\u001b[0m\u001b[0mloc\u001b[0m\u001b[1;33m.\u001b[0m\u001b[0m_get_listlike_indexer\u001b[0m\u001b[1;33m(\u001b[0m\u001b[0mkey\u001b[0m\u001b[1;33m,\u001b[0m \u001b[0maxis\u001b[0m\u001b[1;33m=\u001b[0m\u001b[1;36m1\u001b[0m\u001b[1;33m,\u001b[0m \u001b[0mraise_missing\u001b[0m\u001b[1;33m=\u001b[0m\u001b[1;32mTrue\u001b[0m\u001b[1;33m)\u001b[0m\u001b[1;33m[\u001b[0m\u001b[1;36m1\u001b[0m\u001b[1;33m]\u001b[0m\u001b[1;33m\u001b[0m\u001b[1;33m\u001b[0m\u001b[0m\n\u001b[0m\u001b[0;32m   3031\u001b[0m \u001b[1;33m\u001b[0m\u001b[0m\n\u001b[0;32m   3032\u001b[0m         \u001b[1;31m# take() does not accept boolean indexers\u001b[0m\u001b[1;33m\u001b[0m\u001b[1;33m\u001b[0m\u001b[1;33m\u001b[0m\u001b[0m\n",
      "\u001b[1;32mc:\\Users\\amcre\\AppData\\Local\\Programs\\Python\\Python38\\lib\\site-packages\\pandas\\core\\indexing.py\u001b[0m in \u001b[0;36m_get_listlike_indexer\u001b[1;34m(self, key, axis, raise_missing)\u001b[0m\n\u001b[0;32m   1264\u001b[0m             \u001b[0mkeyarr\u001b[0m\u001b[1;33m,\u001b[0m \u001b[0mindexer\u001b[0m\u001b[1;33m,\u001b[0m \u001b[0mnew_indexer\u001b[0m \u001b[1;33m=\u001b[0m \u001b[0max\u001b[0m\u001b[1;33m.\u001b[0m\u001b[0m_reindex_non_unique\u001b[0m\u001b[1;33m(\u001b[0m\u001b[0mkeyarr\u001b[0m\u001b[1;33m)\u001b[0m\u001b[1;33m\u001b[0m\u001b[1;33m\u001b[0m\u001b[0m\n\u001b[0;32m   1265\u001b[0m \u001b[1;33m\u001b[0m\u001b[0m\n\u001b[1;32m-> 1266\u001b[1;33m         \u001b[0mself\u001b[0m\u001b[1;33m.\u001b[0m\u001b[0m_validate_read_indexer\u001b[0m\u001b[1;33m(\u001b[0m\u001b[0mkeyarr\u001b[0m\u001b[1;33m,\u001b[0m \u001b[0mindexer\u001b[0m\u001b[1;33m,\u001b[0m \u001b[0maxis\u001b[0m\u001b[1;33m,\u001b[0m \u001b[0mraise_missing\u001b[0m\u001b[1;33m=\u001b[0m\u001b[0mraise_missing\u001b[0m\u001b[1;33m)\u001b[0m\u001b[1;33m\u001b[0m\u001b[1;33m\u001b[0m\u001b[0m\n\u001b[0m\u001b[0;32m   1267\u001b[0m         \u001b[1;32mreturn\u001b[0m \u001b[0mkeyarr\u001b[0m\u001b[1;33m,\u001b[0m \u001b[0mindexer\u001b[0m\u001b[1;33m\u001b[0m\u001b[1;33m\u001b[0m\u001b[0m\n\u001b[0;32m   1268\u001b[0m \u001b[1;33m\u001b[0m\u001b[0m\n",
      "\u001b[1;32mc:\\Users\\amcre\\AppData\\Local\\Programs\\Python\\Python38\\lib\\site-packages\\pandas\\core\\indexing.py\u001b[0m in \u001b[0;36m_validate_read_indexer\u001b[1;34m(self, key, indexer, axis, raise_missing)\u001b[0m\n\u001b[0;32m   1314\u001b[0m             \u001b[1;32mif\u001b[0m \u001b[0mraise_missing\u001b[0m\u001b[1;33m:\u001b[0m\u001b[1;33m\u001b[0m\u001b[1;33m\u001b[0m\u001b[0m\n\u001b[0;32m   1315\u001b[0m                 \u001b[0mnot_found\u001b[0m \u001b[1;33m=\u001b[0m \u001b[0mlist\u001b[0m\u001b[1;33m(\u001b[0m\u001b[0mset\u001b[0m\u001b[1;33m(\u001b[0m\u001b[0mkey\u001b[0m\u001b[1;33m)\u001b[0m \u001b[1;33m-\u001b[0m \u001b[0mset\u001b[0m\u001b[1;33m(\u001b[0m\u001b[0max\u001b[0m\u001b[1;33m)\u001b[0m\u001b[1;33m)\u001b[0m\u001b[1;33m\u001b[0m\u001b[1;33m\u001b[0m\u001b[0m\n\u001b[1;32m-> 1316\u001b[1;33m                 \u001b[1;32mraise\u001b[0m \u001b[0mKeyError\u001b[0m\u001b[1;33m(\u001b[0m\u001b[1;34mf\"{not_found} not in index\"\u001b[0m\u001b[1;33m)\u001b[0m\u001b[1;33m\u001b[0m\u001b[1;33m\u001b[0m\u001b[0m\n\u001b[0m\u001b[0;32m   1317\u001b[0m \u001b[1;33m\u001b[0m\u001b[0m\n\u001b[0;32m   1318\u001b[0m             \u001b[0mnot_found\u001b[0m \u001b[1;33m=\u001b[0m \u001b[0mkey\u001b[0m\u001b[1;33m[\u001b[0m\u001b[0mmissing_mask\u001b[0m\u001b[1;33m]\u001b[0m\u001b[1;33m\u001b[0m\u001b[1;33m\u001b[0m\u001b[0m\n",
      "\u001b[1;31mKeyError\u001b[0m: \"['tna_latest_bin'] not in index\""
     ]
    }
   ],
   "source": [
    "#fit a regression model with return as the dependent variable and tna_latest, mgmt_fee, retail_fund, and the dummy columns as the independent variables\n",
    "X = fund_data[['tna_latest_bin', 'mgmt_fee']]\n",
    "y = fund_data['return']\n",
    "X = sm.add_constant(X)\n",
    "model = sm.OLS(y, X).fit()\n",
    "model.summary()"
   ]
  },
  {
   "cell_type": "code",
   "execution_count": 22,
   "metadata": {},
   "outputs": [
    {
     "data": {
      "text/plain": [
       "0.03741093649756401"
      ]
     },
     "execution_count": 22,
     "metadata": {},
     "output_type": "execute_result"
    }
   ],
   "source": [
    "#get the correlation between tna_latest and return\n",
    "fund_data['tna_latest'].corr(fund_data['return'])"
   ]
  },
  {
   "cell_type": "code",
   "execution_count": 23,
   "metadata": {},
   "outputs": [
    {
     "name": "stderr",
     "output_type": "stream",
     "text": [
      "c:\\Users\\amcre\\AppData\\Local\\Programs\\Python\\Python38\\lib\\site-packages\\IPython\\core\\interactiveshell.py:3155: DtypeWarning: Columns (3,12,15,32,37,39,40,46,47,49,50,62) have mixed types.Specify dtype option on import or set low_memory=False.\n",
      "  has_raised = await self.run_ast_nodes(code_ast.body, cell_name,\n"
     ]
    }
   ],
   "source": [
    "data = pd.read_csv('Mutual Fund Data 2.csv')"
   ]
  },
  {
   "cell_type": "code",
   "execution_count": 24,
   "metadata": {},
   "outputs": [],
   "source": [
    "data = data[data['lipper_class'] == 'SCVE']"
   ]
  },
  {
   "cell_type": "code",
   "execution_count": 25,
   "metadata": {},
   "outputs": [],
   "source": [
    "#find values of nav_latest that are string and convert to float\n",
    "data['nav_latest'] = data['nav_latest'].apply(lambda x: float(x) if type(x) == str else x)\n",
    "#find values of nav_latest that aren't float\n",
    "data['nav_latest'] = data['nav_latest'].apply(lambda x: np.nan if type(x) != float else x)\n",
    "data['return'] = (data['nav_latest']/data['nav_latest'].shift(1)) - 1"
   ]
  },
  {
   "cell_type": "code",
   "execution_count": 26,
   "metadata": {},
   "outputs": [],
   "source": [
    "data_quant = data.select_dtypes(include=['float64'])"
   ]
  },
  {
   "cell_type": "code",
   "execution_count": 27,
   "metadata": {},
   "outputs": [],
   "source": [
    "#find how many nan values are in each column\n",
    "data_quant.isna().sum()\n",
    "#drop yield, div_ytd, cap_gains_ytd, unrealized_app_dep, maturity, wbrger_obj_cd, policy \n",
    "data_quant = data_quant.drop(columns=['yield', 'div_ytd', 'cap_gains_ytd', 'unrealized_app_dep', 'maturity', 'wbrger_obj_cd', 'policy','merge_fundno'])"
   ]
  },
  {
   "cell_type": "code",
   "execution_count": 28,
   "metadata": {},
   "outputs": [],
   "source": [
    "data_quant = data_quant.dropna()\n",
    "#log transform the return column\n",
    "data_quant['return'] = np.log(data_quant['return'] + 1)\n",
    "#drop nav_latest and nav_52w_h\n",
    "data_quant = data_quant.drop(columns=['nav_latest', 'nav_52w_h'])\n"
   ]
  },
  {
   "cell_type": "code",
   "execution_count": 29,
   "metadata": {},
   "outputs": [
    {
     "data": {
      "text/html": [
       "<table class=\"simpletable\">\n",
       "<caption>OLS Regression Results</caption>\n",
       "<tr>\n",
       "  <th>Dep. Variable:</th>         <td>return</td>      <th>  R-squared:         </th> <td>   0.019</td>\n",
       "</tr>\n",
       "<tr>\n",
       "  <th>Model:</th>                   <td>OLS</td>       <th>  Adj. R-squared:    </th> <td>   0.015</td>\n",
       "</tr>\n",
       "<tr>\n",
       "  <th>Method:</th>             <td>Least Squares</td>  <th>  F-statistic:       </th> <td>   5.413</td>\n",
       "</tr>\n",
       "<tr>\n",
       "  <th>Date:</th>             <td>Sun, 09 Oct 2022</td> <th>  Prob (F-statistic):</th> <td>6.29e-17</td>\n",
       "</tr>\n",
       "<tr>\n",
       "  <th>Time:</th>                 <td>19:22:18</td>     <th>  Log-Likelihood:    </th> <td>  2705.9</td>\n",
       "</tr>\n",
       "<tr>\n",
       "  <th>No. Observations:</th>      <td>  7138</td>      <th>  AIC:               </th> <td>  -5360.</td>\n",
       "</tr>\n",
       "<tr>\n",
       "  <th>Df Residuals:</th>          <td>  7112</td>      <th>  BIC:               </th> <td>  -5181.</td>\n",
       "</tr>\n",
       "<tr>\n",
       "  <th>Df Model:</th>              <td>    25</td>      <th>                     </th>     <td> </td>   \n",
       "</tr>\n",
       "<tr>\n",
       "  <th>Covariance Type:</th>      <td>nonrobust</td>    <th>                     </th>     <td> </td>   \n",
       "</tr>\n",
       "</table>\n",
       "<table class=\"simpletable\">\n",
       "<tr>\n",
       "         <td></td>           <th>coef</th>     <th>std err</th>      <th>t</th>      <th>P>|t|</th>  <th>[0.025</th>    <th>0.975]</th>  \n",
       "</tr>\n",
       "<tr>\n",
       "  <th>const</th>          <td>    3.1375</td> <td>    1.889</td> <td>    1.661</td> <td> 0.097</td> <td>   -0.566</td> <td>    6.841</td>\n",
       "</tr>\n",
       "<tr>\n",
       "  <th>tna_latest</th>     <td> 2.165e-06</td> <td> 3.49e-06</td> <td>    0.621</td> <td> 0.535</td> <td>-4.67e-06</td> <td>    9e-06</td>\n",
       "</tr>\n",
       "<tr>\n",
       "  <th>per_com</th>        <td>   -0.0345</td> <td>    0.006</td> <td>   -5.617</td> <td> 0.000</td> <td>   -0.046</td> <td>   -0.022</td>\n",
       "</tr>\n",
       "<tr>\n",
       "  <th>per_pref</th>       <td>   -0.0301</td> <td>    0.008</td> <td>   -3.896</td> <td> 0.000</td> <td>   -0.045</td> <td>   -0.015</td>\n",
       "</tr>\n",
       "<tr>\n",
       "  <th>per_conv</th>       <td>   -0.0327</td> <td>    0.007</td> <td>   -4.801</td> <td> 0.000</td> <td>   -0.046</td> <td>   -0.019</td>\n",
       "</tr>\n",
       "<tr>\n",
       "  <th>per_corp</th>       <td>   -0.0344</td> <td>    0.007</td> <td>   -4.799</td> <td> 0.000</td> <td>   -0.048</td> <td>   -0.020</td>\n",
       "</tr>\n",
       "<tr>\n",
       "  <th>per_muni</th>       <td>   -0.0329</td> <td>    0.008</td> <td>   -3.896</td> <td> 0.000</td> <td>   -0.049</td> <td>   -0.016</td>\n",
       "</tr>\n",
       "<tr>\n",
       "  <th>per_govt</th>       <td>   -0.0344</td> <td>    0.006</td> <td>   -5.565</td> <td> 0.000</td> <td>   -0.047</td> <td>   -0.022</td>\n",
       "</tr>\n",
       "<tr>\n",
       "  <th>per_oth</th>        <td>   -0.0344</td> <td>    0.006</td> <td>   -5.611</td> <td> 0.000</td> <td>   -0.046</td> <td>   -0.022</td>\n",
       "</tr>\n",
       "<tr>\n",
       "  <th>per_cash</th>       <td>   -0.0345</td> <td>    0.006</td> <td>   -5.631</td> <td> 0.000</td> <td>   -0.047</td> <td>   -0.023</td>\n",
       "</tr>\n",
       "<tr>\n",
       "  <th>per_bond</th>       <td>   -0.0338</td> <td>    0.006</td> <td>   -5.234</td> <td> 0.000</td> <td>   -0.046</td> <td>   -0.021</td>\n",
       "</tr>\n",
       "<tr>\n",
       "  <th>per_abs</th>        <td>   -0.1732</td> <td>    0.584</td> <td>   -0.296</td> <td> 0.767</td> <td>   -1.319</td> <td>    0.972</td>\n",
       "</tr>\n",
       "<tr>\n",
       "  <th>per_mbs</th>        <td>    0.0169</td> <td>    0.204</td> <td>    0.083</td> <td> 0.934</td> <td>   -0.384</td> <td>    0.417</td>\n",
       "</tr>\n",
       "<tr>\n",
       "  <th>per_eq_oth</th>     <td>   -0.0328</td> <td>    0.006</td> <td>   -5.053</td> <td> 0.000</td> <td>   -0.046</td> <td>   -0.020</td>\n",
       "</tr>\n",
       "<tr>\n",
       "  <th>per_fi_oth</th>     <td>   -0.0357</td> <td>    0.008</td> <td>   -4.696</td> <td> 0.000</td> <td>   -0.051</td> <td>   -0.021</td>\n",
       "</tr>\n",
       "<tr>\n",
       "  <th>crsp_portno</th>    <td> 2.029e-06</td> <td> 2.76e-07</td> <td>    7.345</td> <td> 0.000</td> <td> 1.49e-06</td> <td> 2.57e-06</td>\n",
       "</tr>\n",
       "<tr>\n",
       "  <th>crsp_cl_grp</th>    <td> 2.121e-07</td> <td> 1.47e-07</td> <td>    1.447</td> <td> 0.148</td> <td>-7.51e-08</td> <td> 4.99e-07</td>\n",
       "</tr>\n",
       "<tr>\n",
       "  <th>mgr_dt</th>         <td>-3.724e-08</td> <td> 5.37e-08</td> <td>   -0.693</td> <td> 0.488</td> <td>-1.43e-07</td> <td> 6.81e-08</td>\n",
       "</tr>\n",
       "<tr>\n",
       "  <th>first_offer_dt</th> <td>-7.557e-08</td> <td> 4.49e-08</td> <td>   -1.683</td> <td> 0.092</td> <td>-1.64e-07</td> <td> 1.25e-08</td>\n",
       "</tr>\n",
       "<tr>\n",
       "  <th>end_dt</th>         <td>  2.21e-07</td> <td> 6.88e-08</td> <td>    3.214</td> <td> 0.001</td> <td> 8.62e-08</td> <td> 3.56e-07</td>\n",
       "</tr>\n",
       "<tr>\n",
       "  <th>actual_12b1</th>    <td>   -0.0850</td> <td>    2.079</td> <td>   -0.041</td> <td> 0.967</td> <td>   -4.161</td> <td>    3.991</td>\n",
       "</tr>\n",
       "<tr>\n",
       "  <th>max_12b1</th>       <td>    0.1918</td> <td>    1.938</td> <td>    0.099</td> <td> 0.921</td> <td>   -3.607</td> <td>    3.991</td>\n",
       "</tr>\n",
       "<tr>\n",
       "  <th>mgmt_fee</th>       <td>   -0.0002</td> <td>    0.000</td> <td>   -0.568</td> <td> 0.570</td> <td>   -0.001</td> <td>    0.000</td>\n",
       "</tr>\n",
       "<tr>\n",
       "  <th>exp_ratio</th>      <td>   -0.3596</td> <td>    0.732</td> <td>   -0.491</td> <td> 0.623</td> <td>   -1.794</td> <td>    1.075</td>\n",
       "</tr>\n",
       "<tr>\n",
       "  <th>turn_ratio</th>     <td>    0.0013</td> <td>    0.001</td> <td>    1.215</td> <td> 0.224</td> <td>   -0.001</td> <td>    0.004</td>\n",
       "</tr>\n",
       "<tr>\n",
       "  <th>fiscal_yearend</th> <td>-2.179e-07</td> <td>  6.8e-08</td> <td>   -3.205</td> <td> 0.001</td> <td>-3.51e-07</td> <td>-8.46e-08</td>\n",
       "</tr>\n",
       "</table>\n",
       "<table class=\"simpletable\">\n",
       "<tr>\n",
       "  <th>Omnibus:</th>       <td>2366.324</td> <th>  Durbin-Watson:     </th>  <td>   2.035</td> \n",
       "</tr>\n",
       "<tr>\n",
       "  <th>Prob(Omnibus):</th>  <td> 0.000</td>  <th>  Jarque-Bera (JB):  </th> <td>220331.691</td>\n",
       "</tr>\n",
       "<tr>\n",
       "  <th>Skew:</th>           <td>-0.627</td>  <th>  Prob(JB):          </th>  <td>    0.00</td> \n",
       "</tr>\n",
       "<tr>\n",
       "  <th>Kurtosis:</th>       <td>30.189</td>  <th>  Cond. No.          </th>  <td>5.67e+10</td> \n",
       "</tr>\n",
       "</table><br/><br/>Notes:<br/>[1] Standard Errors assume that the covariance matrix of the errors is correctly specified.<br/>[2] The condition number is large, 5.67e+10. This might indicate that there are<br/>strong multicollinearity or other numerical problems."
      ],
      "text/plain": [
       "<class 'statsmodels.iolib.summary.Summary'>\n",
       "\"\"\"\n",
       "                            OLS Regression Results                            \n",
       "==============================================================================\n",
       "Dep. Variable:                 return   R-squared:                       0.019\n",
       "Model:                            OLS   Adj. R-squared:                  0.015\n",
       "Method:                 Least Squares   F-statistic:                     5.413\n",
       "Date:                Sun, 09 Oct 2022   Prob (F-statistic):           6.29e-17\n",
       "Time:                        19:22:18   Log-Likelihood:                 2705.9\n",
       "No. Observations:                7138   AIC:                            -5360.\n",
       "Df Residuals:                    7112   BIC:                            -5181.\n",
       "Df Model:                          25                                         \n",
       "Covariance Type:            nonrobust                                         \n",
       "==================================================================================\n",
       "                     coef    std err          t      P>|t|      [0.025      0.975]\n",
       "----------------------------------------------------------------------------------\n",
       "const              3.1375      1.889      1.661      0.097      -0.566       6.841\n",
       "tna_latest      2.165e-06   3.49e-06      0.621      0.535   -4.67e-06       9e-06\n",
       "per_com           -0.0345      0.006     -5.617      0.000      -0.046      -0.022\n",
       "per_pref          -0.0301      0.008     -3.896      0.000      -0.045      -0.015\n",
       "per_conv          -0.0327      0.007     -4.801      0.000      -0.046      -0.019\n",
       "per_corp          -0.0344      0.007     -4.799      0.000      -0.048      -0.020\n",
       "per_muni          -0.0329      0.008     -3.896      0.000      -0.049      -0.016\n",
       "per_govt          -0.0344      0.006     -5.565      0.000      -0.047      -0.022\n",
       "per_oth           -0.0344      0.006     -5.611      0.000      -0.046      -0.022\n",
       "per_cash          -0.0345      0.006     -5.631      0.000      -0.047      -0.023\n",
       "per_bond          -0.0338      0.006     -5.234      0.000      -0.046      -0.021\n",
       "per_abs           -0.1732      0.584     -0.296      0.767      -1.319       0.972\n",
       "per_mbs            0.0169      0.204      0.083      0.934      -0.384       0.417\n",
       "per_eq_oth        -0.0328      0.006     -5.053      0.000      -0.046      -0.020\n",
       "per_fi_oth        -0.0357      0.008     -4.696      0.000      -0.051      -0.021\n",
       "crsp_portno     2.029e-06   2.76e-07      7.345      0.000    1.49e-06    2.57e-06\n",
       "crsp_cl_grp     2.121e-07   1.47e-07      1.447      0.148   -7.51e-08    4.99e-07\n",
       "mgr_dt         -3.724e-08   5.37e-08     -0.693      0.488   -1.43e-07    6.81e-08\n",
       "first_offer_dt -7.557e-08   4.49e-08     -1.683      0.092   -1.64e-07    1.25e-08\n",
       "end_dt           2.21e-07   6.88e-08      3.214      0.001    8.62e-08    3.56e-07\n",
       "actual_12b1       -0.0850      2.079     -0.041      0.967      -4.161       3.991\n",
       "max_12b1           0.1918      1.938      0.099      0.921      -3.607       3.991\n",
       "mgmt_fee          -0.0002      0.000     -0.568      0.570      -0.001       0.000\n",
       "exp_ratio         -0.3596      0.732     -0.491      0.623      -1.794       1.075\n",
       "turn_ratio         0.0013      0.001      1.215      0.224      -0.001       0.004\n",
       "fiscal_yearend -2.179e-07    6.8e-08     -3.205      0.001   -3.51e-07   -8.46e-08\n",
       "==============================================================================\n",
       "Omnibus:                     2366.324   Durbin-Watson:                   2.035\n",
       "Prob(Omnibus):                  0.000   Jarque-Bera (JB):           220331.691\n",
       "Skew:                          -0.627   Prob(JB):                         0.00\n",
       "Kurtosis:                      30.189   Cond. No.                     5.67e+10\n",
       "==============================================================================\n",
       "\n",
       "Notes:\n",
       "[1] Standard Errors assume that the covariance matrix of the errors is correctly specified.\n",
       "[2] The condition number is large, 5.67e+10. This might indicate that there are\n",
       "strong multicollinearity or other numerical problems.\n",
       "\"\"\""
      ]
     },
     "execution_count": 29,
     "metadata": {},
     "output_type": "execute_result"
    }
   ],
   "source": [
    "#fit a regression predicting return with all the other columns from data_quant\n",
    "X = data_quant.drop('return', axis=1)\n",
    "y = data_quant['return']\n",
    "X = sm.add_constant(X)\n",
    "model = sm.OLS(y, X).fit()\n",
    "model.summary()"
   ]
  },
  {
   "cell_type": "code",
   "execution_count": 30,
   "metadata": {},
   "outputs": [
    {
     "data": {
      "text/plain": [
       "2.164649548082119e-06"
      ]
     },
     "execution_count": 30,
     "metadata": {},
     "output_type": "execute_result"
    }
   ],
   "source": [
    "#get the coefficient for tna_latest\n",
    "model.params['tna_latest']"
   ]
  },
  {
   "cell_type": "code",
   "execution_count": 31,
   "metadata": {},
   "outputs": [
    {
     "data": {
      "text/plain": [
       "<AxesSubplot:xlabel='per_abs', ylabel='return'>"
      ]
     },
     "execution_count": 31,
     "metadata": {},
     "output_type": "execute_result"
    },
    {
     "data": {
      "image/png": "[encoded data removed]",
      "text/plain": [
       "<Figure size 432x288 with 1 Axes>"
      ]
     },
     "metadata": {
      "needs_background": "light"
     },
     "output_type": "display_data"
    }
   ],
   "source": [
    "#plot return against div_ytd\n",
    "data.plot.scatter(x='per_abs', y='return')"
   ]
  },
  {
   "cell_type": "code",
   "execution_count": 32,
   "metadata": {},
   "outputs": [
    {
     "data": {
      "text/plain": [
       "22422"
      ]
     },
     "execution_count": 32,
     "metadata": {},
     "output_type": "execute_result"
    }
   ],
   "source": [
    "#find number of missing values for div_ytd\n",
    "data['div_ytd'].isna().sum()"
   ]
  },
  {
   "cell_type": "code",
   "execution_count": null,
   "metadata": {},
   "outputs": [],
   "source": []
  }
 ],
 "metadata": {
  "kernelspec": {
   "display_name": "Python 3.8.6 64-bit",
   "language": "python",
   "name": "python3"
  },
  "language_info": {
   "codemirror_mode": {
    "name": "ipython",
    "version": 3
   },
   "file_extension": ".py",
   "mimetype": "text/x-python",
   "name": "python",
   "nbconvert_exporter": "python",
   "pygments_lexer": "ipython3",
   "version": "3.8.6"
  },
  "orig_nbformat": 4,
  "vscode": {
   "interpreter": {
    "hash": "bff7ade9f6a8e9509b44c47f8da4ba87c411809777b52a7a3281856a3f2bef39"
   }
  }
 },
 "nbformat": 4,
 "nbformat_minor": 2
}
